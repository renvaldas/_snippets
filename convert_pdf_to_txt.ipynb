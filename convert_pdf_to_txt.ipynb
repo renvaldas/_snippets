{
 "cells": [
  {
   "cell_type": "markdown",
   "metadata": {},
   "source": [
    "Code extracts text from pdf files in directory in recursion\n",
    "and writes txt file in the same location"
   ]
  },
  {
   "cell_type": "code",
   "execution_count": 1,
   "metadata": {},
   "outputs": [],
   "source": [
    "# install\n",
    "# pip install pdfminer.six\n",
    "# pip install msgpack"
   ]
  },
  {
   "cell_type": "code",
   "execution_count": 2,
   "metadata": {},
   "outputs": [],
   "source": [
    "import os\n",
    "from pathlib import Path\n",
    "\n",
    "from pdfminer.pdfinterp import PDFResourceManager, PDFPageInterpreter\n",
    "from pdfminer.converter import TextConverter\n",
    "from pdfminer.layout import LAParams\n",
    "from pdfminer.pdfpage import PDFPage\n",
    "try:\n",
    "    from StringIO import StringIO\n",
    "except ImportError:\n",
    "    from io import StringIO"
   ]
  },
  {
   "cell_type": "code",
   "execution_count": 3,
   "metadata": {},
   "outputs": [],
   "source": [
    "def convert_pdf_to_txt(path):\n",
    "    rsrcmgr = PDFResourceManager()\n",
    "    retstr = StringIO()\n",
    "    codec = 'utf-8'\n",
    "    laparams = LAParams()\n",
    "    device = TextConverter(rsrcmgr, retstr, codec=codec, laparams=laparams)\n",
    "    fp = open(path, 'rb')\n",
    "    interpreter = PDFPageInterpreter(rsrcmgr, device)\n",
    "    password = \"\"\n",
    "    maxpages = 0\n",
    "    caching = True\n",
    "    pagenos=set()\n",
    "    page_number = 0\n",
    "    for page in PDFPage.get_pages(fp, pagenos, maxpages=maxpages, password=password,caching=caching, check_extractable=True):\n",
    "        interpreter.process_page(page)\n",
    "        page_number += 1\n",
    "    fp.close()\n",
    "    device.close()\n",
    "    str = retstr.getvalue()\n",
    "    retstr.close()\n",
    "    return str, page_number"
   ]
  },
  {
   "cell_type": "code",
   "execution_count": 4,
   "metadata": {},
   "outputs": [],
   "source": [
    "def write_text_to_file(path_in_str, s):\n",
    "    basename = os.path.splitext(path_in_str)[0]\n",
    "    file_to_write = os.path.join(basename + \".frompdf.txt\")\n",
    "    f = open(file_to_write, 'wb')\n",
    "    f.write(s.encode('utf-8'))\n",
    "    f.close()"
   ]
  },
  {
   "cell_type": "code",
   "execution_count": 5,
   "metadata": {},
   "outputs": [],
   "source": [
    "def process_all_files(directory_in_str):\n",
    "    pathlist = Path(directory_in_str).glob('**/*.pdf')\n",
    "    file_count = 0\n",
    "    for path in pathlist:\n",
    "        # because path is object not string\n",
    "        path_in_str = str(path)\n",
    "        print(\"Procesing file %s\" % path_in_str)\n",
    "        \n",
    "        s, page_count = convert_pdf_to_txt(path_in_str)\n",
    "        if page_count > 0:\n",
    "            write_text_to_file(path_in_str, s)\n",
    "            print(\"Done file %s. Pages: %s\" % (path_in_str, page_count))\n",
    "        else:\n",
    "            print(\"-----> Check file %s\" % path_in_str)"
   ]
  },
  {
   "cell_type": "code",
   "execution_count": 6,
   "metadata": {
    "scrolled": true
   },
   "outputs": [
    {
     "name": "stdout",
     "output_type": "stream",
     "text": [
      "Procesing file d:\\dir_with_files\\Elasticsearch Indexing.pdf\n",
      "Done file d:\\dir_with_files\\Elasticsearch Indexing.pdf. Pages: 176\n",
      "Procesing file d:\\dir_with_files\\another_dir\\Elasticsearch Blueprints.pdf\n",
      "Done file d:\\dir_with_files\\another_dir\\Elasticsearch Blueprints.pdf. Pages: 192\n"
     ]
    }
   ],
   "source": [
    "directory_in_str = r\"d:\\dir_with_files\"\n",
    "process_all_files(directory_in_str)"
   ]
  }
 ],
 "metadata": {
  "kernelspec": {
   "display_name": "Python 3",
   "language": "python",
   "name": "python3"
  },
  "language_info": {
   "codemirror_mode": {
    "name": "ipython",
    "version": 3
   },
   "file_extension": ".py",
   "mimetype": "text/x-python",
   "name": "python",
   "nbconvert_exporter": "python",
   "pygments_lexer": "ipython3",
   "version": "3.6.5"
  }
 },
 "nbformat": 4,
 "nbformat_minor": 2
}
